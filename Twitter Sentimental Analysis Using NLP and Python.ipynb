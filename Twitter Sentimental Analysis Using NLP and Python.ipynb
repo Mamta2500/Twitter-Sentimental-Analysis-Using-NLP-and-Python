{
 "cells": [
  {
   "cell_type": "code",
   "execution_count": 1,
   "id": "ecfecf58",
   "metadata": {},
   "outputs": [],
   "source": [
    "import pandas as pd"
   ]
  },
  {
   "cell_type": "code",
   "execution_count": 2,
   "id": "86b6258f",
   "metadata": {},
   "outputs": [],
   "source": [
    "df = pd.read_csv(\"Twitter_Data.csv\")"
   ]
  },
  {
   "cell_type": "code",
   "execution_count": 3,
   "id": "5065b01f",
   "metadata": {},
   "outputs": [
    {
     "data": {
      "text/html": [
       "<div>\n",
       "<style scoped>\n",
       "    .dataframe tbody tr th:only-of-type {\n",
       "        vertical-align: middle;\n",
       "    }\n",
       "\n",
       "    .dataframe tbody tr th {\n",
       "        vertical-align: top;\n",
       "    }\n",
       "\n",
       "    .dataframe thead th {\n",
       "        text-align: right;\n",
       "    }\n",
       "</style>\n",
       "<table border=\"1\" class=\"dataframe\">\n",
       "  <thead>\n",
       "    <tr style=\"text-align: right;\">\n",
       "      <th></th>\n",
       "      <th>clean_text</th>\n",
       "      <th>category</th>\n",
       "    </tr>\n",
       "  </thead>\n",
       "  <tbody>\n",
       "    <tr>\n",
       "      <th>0</th>\n",
       "      <td>when modi promised “minimum government maximum...</td>\n",
       "      <td>-1.0</td>\n",
       "    </tr>\n",
       "    <tr>\n",
       "      <th>1</th>\n",
       "      <td>talk all the nonsense and continue all the dra...</td>\n",
       "      <td>0.0</td>\n",
       "    </tr>\n",
       "    <tr>\n",
       "      <th>2</th>\n",
       "      <td>what did just say vote for modi  welcome bjp t...</td>\n",
       "      <td>1.0</td>\n",
       "    </tr>\n",
       "    <tr>\n",
       "      <th>3</th>\n",
       "      <td>asking his supporters prefix chowkidar their n...</td>\n",
       "      <td>1.0</td>\n",
       "    </tr>\n",
       "    <tr>\n",
       "      <th>4</th>\n",
       "      <td>answer who among these the most powerful world...</td>\n",
       "      <td>1.0</td>\n",
       "    </tr>\n",
       "  </tbody>\n",
       "</table>\n",
       "</div>"
      ],
      "text/plain": [
       "                                          clean_text  category\n",
       "0  when modi promised “minimum government maximum...      -1.0\n",
       "1  talk all the nonsense and continue all the dra...       0.0\n",
       "2  what did just say vote for modi  welcome bjp t...       1.0\n",
       "3  asking his supporters prefix chowkidar their n...       1.0\n",
       "4  answer who among these the most powerful world...       1.0"
      ]
     },
     "execution_count": 3,
     "metadata": {},
     "output_type": "execute_result"
    }
   ],
   "source": [
    "df.head()"
   ]
  },
  {
   "cell_type": "code",
   "execution_count": 4,
   "id": "fb6b70a8",
   "metadata": {},
   "outputs": [],
   "source": [
    "df['category'] = df['category'].map({0: 'Neutral', -1: 'Negative', 1: 'Positive'})"
   ]
  },
  {
   "cell_type": "markdown",
   "id": "823d2a91",
   "metadata": {},
   "source": [
    "checking for null values in each column"
   ]
  },
  {
   "cell_type": "code",
   "execution_count": 5,
   "id": "325601d6",
   "metadata": {},
   "outputs": [
    {
     "name": "stdout",
     "output_type": "stream",
     "text": [
      "clean_text    4\n",
      "category      7\n",
      "dtype: int64\n"
     ]
    }
   ],
   "source": [
    "print(df.isnull().sum())"
   ]
  },
  {
   "cell_type": "markdown",
   "id": "83ce3bee",
   "metadata": {},
   "source": [
    "droping rows with null values"
   ]
  },
  {
   "cell_type": "code",
   "execution_count": 6,
   "id": "37317212",
   "metadata": {},
   "outputs": [],
   "source": [
    "df.dropna(inplace=True)"
   ]
  },
  {
   "cell_type": "code",
   "execution_count": 7,
   "id": "c5cc7b26",
   "metadata": {},
   "outputs": [
    {
     "name": "stdout",
     "output_type": "stream",
     "text": [
      "Requirement already satisfied: nltk in c:\\users\\mamta\\miniconda3\\lib\\site-packages (3.8.1)\n",
      "Requirement already satisfied: regex>=2021.8.3 in c:\\users\\mamta\\miniconda3\\lib\\site-packages (from nltk) (2022.10.31)\n",
      "Requirement already satisfied: click in c:\\users\\mamta\\miniconda3\\lib\\site-packages (from nltk) (8.1.3)\n",
      "Requirement already satisfied: tqdm in c:\\users\\mamta\\miniconda3\\lib\\site-packages (from nltk) (4.64.1)\n",
      "Requirement already satisfied: joblib in c:\\users\\mamta\\miniconda3\\lib\\site-packages (from nltk) (1.1.1)\n",
      "Requirement already satisfied: colorama in c:\\users\\mamta\\miniconda3\\lib\\site-packages (from click->nltk) (0.4.5)\n",
      "Note: you may need to restart the kernel to use updated packages.\n"
     ]
    }
   ],
   "source": [
    "pip install nltk"
   ]
  },
  {
   "cell_type": "code",
   "execution_count": 8,
   "id": "f414325f",
   "metadata": {},
   "outputs": [],
   "source": [
    "import re\n",
    "import nltk\n",
    "import string\n",
    "from nltk.corpus import stopwords"
   ]
  },
  {
   "cell_type": "markdown",
   "id": "7080103d",
   "metadata": {},
   "source": [
    "downloading stopwords"
   ]
  },
  {
   "cell_type": "code",
   "execution_count": 9,
   "id": "fe8ce04d",
   "metadata": {},
   "outputs": [
    {
     "name": "stderr",
     "output_type": "stream",
     "text": [
      "[nltk_data] Downloading package stopwords to\n",
      "[nltk_data]     C:\\Users\\mamta\\AppData\\Roaming\\nltk_data...\n",
      "[nltk_data]   Package stopwords is already up-to-date!\n"
     ]
    },
    {
     "data": {
      "text/plain": [
       "True"
      ]
     },
     "execution_count": 9,
     "metadata": {},
     "output_type": "execute_result"
    }
   ],
   "source": [
    "nltk.download('stopwords')"
   ]
  },
  {
   "cell_type": "markdown",
   "id": "d1ab425a",
   "metadata": {},
   "source": [
    "removing special characters"
   ]
  },
  {
   "cell_type": "code",
   "execution_count": 10,
   "id": "21f2d2f1",
   "metadata": {},
   "outputs": [],
   "source": [
    "df['clean_text'] = df['clean_text'].apply(lambda x: re.sub(r'[^a-zA-Z0-9\\s]', '', x))"
   ]
  },
  {
   "cell_type": "markdown",
   "id": "d7c73f81",
   "metadata": {},
   "source": [
    "converting to lowercase"
   ]
  },
  {
   "cell_type": "code",
   "execution_count": 11,
   "id": "77021148",
   "metadata": {},
   "outputs": [],
   "source": [
    "df['clean_text'] = df['clean_text'].apply(lambda x: x.lower())"
   ]
  },
  {
   "cell_type": "markdown",
   "id": "1b42f756",
   "metadata": {},
   "source": [
    "removing punctuation"
   ]
  },
  {
   "cell_type": "code",
   "execution_count": 12,
   "id": "8ce86e9b",
   "metadata": {},
   "outputs": [],
   "source": [
    "translator = str.maketrans('', '', string.punctuation)\n",
    "df['clean_text'] = df['clean_text'].apply(lambda x: x.translate(translator))"
   ]
  },
  {
   "cell_type": "markdown",
   "id": "8ceeaad6",
   "metadata": {},
   "source": [
    "removing stopwords"
   ]
  },
  {
   "cell_type": "code",
   "execution_count": 13,
   "id": "687d32b7",
   "metadata": {},
   "outputs": [],
   "source": [
    "stop_words = set(stopwords.words('english'))\n",
    "df['clean_text'] = df['clean_text'].apply(lambda x: [word for word in x if word not in stop_words])"
   ]
  },
  {
   "cell_type": "code",
   "execution_count": 14,
   "id": "2e68957f",
   "metadata": {},
   "outputs": [],
   "source": [
    "df['sentence_length'] = df['clean_text'].apply(lambda x: len(x))"
   ]
  },
  {
   "cell_type": "code",
   "execution_count": 15,
   "id": "cb83aa53",
   "metadata": {},
   "outputs": [
    {
     "data": {
      "text/html": [
       "<div>\n",
       "<style scoped>\n",
       "    .dataframe tbody tr th:only-of-type {\n",
       "        vertical-align: middle;\n",
       "    }\n",
       "\n",
       "    .dataframe tbody tr th {\n",
       "        vertical-align: top;\n",
       "    }\n",
       "\n",
       "    .dataframe thead th {\n",
       "        text-align: right;\n",
       "    }\n",
       "</style>\n",
       "<table border=\"1\" class=\"dataframe\">\n",
       "  <thead>\n",
       "    <tr style=\"text-align: right;\">\n",
       "      <th></th>\n",
       "      <th>clean_text</th>\n",
       "      <th>category</th>\n",
       "      <th>sentence_length</th>\n",
       "    </tr>\n",
       "  </thead>\n",
       "  <tbody>\n",
       "    <tr>\n",
       "      <th>0</th>\n",
       "      <td>[w, h, e, n,  ,  , p, r, e,  , n, u,  , g, v, ...</td>\n",
       "      <td>Negative</td>\n",
       "      <td>123</td>\n",
       "    </tr>\n",
       "    <tr>\n",
       "      <th>1</th>\n",
       "      <td>[l, k,  , l, l,  , h, e,  , n, n, e, n, e,  , ...</td>\n",
       "      <td>Neutral</td>\n",
       "      <td>42</td>\n",
       "    </tr>\n",
       "    <tr>\n",
       "      <th>2</th>\n",
       "      <td>[w, h,  ,  , j, u,  ,  , v, e,  , f, r,  ,  , ...</td>\n",
       "      <td>Positive</td>\n",
       "      <td>67</td>\n",
       "    </tr>\n",
       "    <tr>\n",
       "      <th>3</th>\n",
       "      <td>[k, n, g,  , h,  , u, p, p, r, e, r,  , p, r, ...</td>\n",
       "      <td>Positive</td>\n",
       "      <td>129</td>\n",
       "    </tr>\n",
       "    <tr>\n",
       "      <th>4</th>\n",
       "      <td>[n, w, e, r,  , w, h,  , n, g,  , h, e, e,  , ...</td>\n",
       "      <td>Positive</td>\n",
       "      <td>47</td>\n",
       "    </tr>\n",
       "  </tbody>\n",
       "</table>\n",
       "</div>"
      ],
      "text/plain": [
       "                                          clean_text  category  \\\n",
       "0  [w, h, e, n,  ,  , p, r, e,  , n, u,  , g, v, ...  Negative   \n",
       "1  [l, k,  , l, l,  , h, e,  , n, n, e, n, e,  , ...   Neutral   \n",
       "2  [w, h,  ,  , j, u,  ,  , v, e,  , f, r,  ,  , ...  Positive   \n",
       "3  [k, n, g,  , h,  , u, p, p, r, e, r,  , p, r, ...  Positive   \n",
       "4  [n, w, e, r,  , w, h,  , n, g,  , h, e, e,  , ...  Positive   \n",
       "\n",
       "   sentence_length  \n",
       "0              123  \n",
       "1               42  \n",
       "2               67  \n",
       "3              129  \n",
       "4               47  "
      ]
     },
     "execution_count": 15,
     "metadata": {},
     "output_type": "execute_result"
    }
   ],
   "source": [
    "df.head()"
   ]
  },
  {
   "cell_type": "markdown",
   "id": "8f965ca3",
   "metadata": {},
   "source": [
    "Spliting the data into X (features) and y (target)"
   ]
  },
  {
   "cell_type": "code",
   "execution_count": 16,
   "id": "ce133071",
   "metadata": {},
   "outputs": [],
   "source": [
    "X = df.drop(['category'], axis=1)\n",
    "y = df['category']"
   ]
  },
  {
   "cell_type": "code",
   "execution_count": null,
   "id": "912b3eaf",
   "metadata": {},
   "outputs": [],
   "source": []
  },
  {
   "cell_type": "code",
   "execution_count": 17,
   "id": "88bba53e",
   "metadata": {},
   "outputs": [],
   "source": [
    "import tensorflow as tf"
   ]
  },
  {
   "cell_type": "markdown",
   "id": "ba75c7c9",
   "metadata": {},
   "source": [
    "building vocabulary and one-hot encoding"
   ]
  },
  {
   "cell_type": "code",
   "execution_count": 18,
   "id": "12893b1a",
   "metadata": {},
   "outputs": [],
   "source": [
    "tokenizer = tf.keras.preprocessing.text.Tokenizer()\n",
    "tokenizer.fit_on_texts(X['clean_text'])\n",
    "X_one_hot = tokenizer.texts_to_matrix(X['clean_text'], mode='binary')"
   ]
  },
  {
   "cell_type": "markdown",
   "id": "3a1847f2",
   "metadata": {},
   "source": [
    "pad sequences with zeros at the front"
   ]
  },
  {
   "cell_type": "code",
   "execution_count": 19,
   "id": "53ffe3d5",
   "metadata": {},
   "outputs": [],
   "source": [
    "max_length = max([len(seq) for seq in X_one_hot])\n",
    "X_padded = tf.keras.preprocessing.sequence.pad_sequences(X_one_hot, maxlen=max_length, padding='pre')"
   ]
  },
  {
   "cell_type": "markdown",
   "id": "c1c567fe",
   "metadata": {},
   "source": [
    "building model"
   ]
  },
  {
   "cell_type": "code",
   "execution_count": 20,
   "id": "ce4b47a3",
   "metadata": {},
   "outputs": [],
   "source": [
    "model = tf.keras.Sequential()\n",
    "model.add(tf.keras.layers.LSTM(32, input_shape=(max_length, len(tokenizer.word_index)+1)))\n",
    "model.add(tf.keras.layers.Dropout(0.2))\n",
    "model.add(tf.keras.layers.Dense(1, activation='sigmoid'))"
   ]
  },
  {
   "cell_type": "markdown",
   "id": "9f18d5af",
   "metadata": {},
   "source": [
    "compiling the model"
   ]
  },
  {
   "cell_type": "code",
   "execution_count": 21,
   "id": "b1440e14",
   "metadata": {},
   "outputs": [],
   "source": [
    "model.compile(optimizer='adam', loss='binary_crossentropy', metrics=['accuracy'])"
   ]
  },
  {
   "cell_type": "code",
   "execution_count": 22,
   "id": "40364ed7",
   "metadata": {},
   "outputs": [],
   "source": [
    "y_dummy = pd.get_dummies(y)"
   ]
  },
  {
   "cell_type": "code",
   "execution_count": 23,
   "id": "a2276cc4",
   "metadata": {},
   "outputs": [],
   "source": [
    "from sklearn.model_selection import train_test_split\n",
    "X_train, X_test, y_train, y_test = train_test_split(X_padded, y_dummy, test_size=0.2)"
   ]
  },
  {
   "cell_type": "markdown",
   "id": "66cc3b77",
   "metadata": {},
   "source": [
    "Reshaping input data to have shape (batch_size, timesteps, features)"
   ]
  },
  {
   "cell_type": "code",
   "execution_count": 24,
   "id": "51da3881",
   "metadata": {},
   "outputs": [],
   "source": [
    "X_train = tf.expand_dims(X_train, axis=2)\n",
    "X_test = tf.expand_dims(X_test, axis=2)"
   ]
  },
  {
   "cell_type": "code",
   "execution_count": null,
   "id": "675e98b1",
   "metadata": {},
   "outputs": [],
   "source": [
    "history = model.fit(X_train, y_train, epochs=10, validation_data=(X_test, y_test))"
   ]
  },
  {
   "cell_type": "code",
   "execution_count": null,
   "id": "4eead71b",
   "metadata": {},
   "outputs": [],
   "source": [
    "predictions = model.predict(X_test)\n",
    "predictions = [round(pred) for pred in predictions]"
   ]
  },
  {
   "cell_type": "code",
   "execution_count": null,
   "id": "9ab6ab67",
   "metadata": {},
   "outputs": [],
   "source": [
    "from sklearn.metrics import classification_report\n",
    "print(classification_report(y_test, predictions))"
   ]
  },
  {
   "cell_type": "code",
   "execution_count": null,
   "id": "ba3d18c6",
   "metadata": {},
   "outputs": [],
   "source": []
  }
 ],
 "metadata": {
  "kernelspec": {
   "display_name": "Python 3 (ipykernel)",
   "language": "python",
   "name": "python3"
  },
  "language_info": {
   "codemirror_mode": {
    "name": "ipython",
    "version": 3
   },
   "file_extension": ".py",
   "mimetype": "text/x-python",
   "name": "python",
   "nbconvert_exporter": "python",
   "pygments_lexer": "ipython3",
   "version": "3.10.8"
  }
 },
 "nbformat": 4,
 "nbformat_minor": 5
}
